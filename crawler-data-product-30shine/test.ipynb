{
 "cells": [
  {
   "cell_type": "code",
   "execution_count": 27,
   "id": "2497e5f0",
   "metadata": {},
   "outputs": [],
   "source": [
    "import pandas as pd"
   ]
  },
  {
   "cell_type": "code",
   "execution_count": 28,
   "id": "f17a77c0",
   "metadata": {},
   "outputs": [],
   "source": [
    "products = pd.read_csv('output/products.csv')\n",
    "detailed_products = pd.read_csv('output/product_details.csv')"
   ]
  },
  {
   "cell_type": "code",
   "execution_count": 29,
   "id": "2f878872",
   "metadata": {},
   "outputs": [
    {
     "data": {
      "text/plain": [
       "(27, 18)"
      ]
     },
     "execution_count": 29,
     "metadata": {},
     "output_type": "execute_result"
    }
   ],
   "source": [
    "products.shape"
   ]
  },
  {
   "cell_type": "code",
   "execution_count": 30,
   "id": "daf9b0e2",
   "metadata": {},
   "outputs": [
    {
     "data": {
      "text/html": [
       "<div>\n",
       "<style scoped>\n",
       "    .dataframe tbody tr th:only-of-type {\n",
       "        vertical-align: middle;\n",
       "    }\n",
       "\n",
       "    .dataframe tbody tr th {\n",
       "        vertical-align: top;\n",
       "    }\n",
       "\n",
       "    .dataframe thead th {\n",
       "        text-align: right;\n",
       "    }\n",
       "</style>\n",
       "<table border=\"1\" class=\"dataframe\">\n",
       "  <thead>\n",
       "    <tr style=\"text-align: right;\">\n",
       "      <th></th>\n",
       "      <th>id</th>\n",
       "      <th>name</th>\n",
       "      <th>slug</th>\n",
       "      <th>price</th>\n",
       "      <th>listed_price</th>\n",
       "      <th>discount_percent</th>\n",
       "      <th>is_discount</th>\n",
       "      <th>is_out_of_stock</th>\n",
       "      <th>rating_score</th>\n",
       "      <th>total_sold</th>\n",
       "      <th>category</th>\n",
       "      <th>category_slug</th>\n",
       "      <th>subcategory</th>\n",
       "      <th>subcategory_slug</th>\n",
       "      <th>brand</th>\n",
       "      <th>brand_slug</th>\n",
       "      <th>image_url</th>\n",
       "      <th>tags</th>\n",
       "    </tr>\n",
       "  </thead>\n",
       "  <tbody>\n",
       "    <tr>\n",
       "      <th>0</th>\n",
       "      <td>65a3bd74122f00001d93268c</td>\n",
       "      <td>Tinh dầu dưỡng tóc ATS For man Styling Oil 80ml</td>\n",
       "      <td>tinh-dau-duong-toc-ats-for-man-styling-oil-80ml</td>\n",
       "      <td>655000</td>\n",
       "      <td>655000</td>\n",
       "      <td>0</td>\n",
       "      <td>False</td>\n",
       "      <td>False</td>\n",
       "      <td>0</td>\n",
       "      <td>0</td>\n",
       "      <td>Chăm sóc tóc</td>\n",
       "      <td>cham-soc-toc</td>\n",
       "      <td>Dưỡng tóc</td>\n",
       "      <td>duong-toc</td>\n",
       "      <td>ATS</td>\n",
       "      <td>ats</td>\n",
       "      <td>https://static.30shine.com/shop-admin/2024/01/...</td>\n",
       "      <td>30Shine</td>\n",
       "    </tr>\n",
       "  </tbody>\n",
       "</table>\n",
       "</div>"
      ],
      "text/plain": [
       "                         id                                             name  \\\n",
       "0  65a3bd74122f00001d93268c  Tinh dầu dưỡng tóc ATS For man Styling Oil 80ml   \n",
       "\n",
       "                                              slug   price  listed_price  \\\n",
       "0  tinh-dau-duong-toc-ats-for-man-styling-oil-80ml  655000        655000   \n",
       "\n",
       "   discount_percent  is_discount  is_out_of_stock  rating_score  total_sold  \\\n",
       "0                 0        False            False             0           0   \n",
       "\n",
       "       category category_slug subcategory subcategory_slug brand brand_slug  \\\n",
       "0  Chăm sóc tóc  cham-soc-toc   Dưỡng tóc        duong-toc   ATS        ats   \n",
       "\n",
       "                                           image_url     tags  \n",
       "0  https://static.30shine.com/shop-admin/2024/01/...  30Shine  "
      ]
     },
     "execution_count": 30,
     "metadata": {},
     "output_type": "execute_result"
    }
   ],
   "source": [
    "products.head(1)"
   ]
  },
  {
   "cell_type": "code",
   "execution_count": 31,
   "id": "ec2c37cd",
   "metadata": {},
   "outputs": [
    {
     "data": {
      "text/plain": [
       "(27, 20)"
      ]
     },
     "execution_count": 31,
     "metadata": {},
     "output_type": "execute_result"
    }
   ],
   "source": [
    "detailed_products.shape"
   ]
  }
 ],
 "metadata": {
  "kernelspec": {
   "display_name": "Python 3",
   "language": "python",
   "name": "python3"
  },
  "language_info": {
   "codemirror_mode": {
    "name": "ipython",
    "version": 3
   },
   "file_extension": ".py",
   "mimetype": "text/x-python",
   "name": "python",
   "nbconvert_exporter": "python",
   "pygments_lexer": "ipython3",
   "version": "3.10.5"
  }
 },
 "nbformat": 4,
 "nbformat_minor": 5
}
